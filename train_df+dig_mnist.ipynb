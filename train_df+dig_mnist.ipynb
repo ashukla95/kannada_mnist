{
 "cells": [
  {
   "cell_type": "code",
   "execution_count": 1,
   "metadata": {},
   "outputs": [],
   "source": [
    "import pandas as pd\n",
    "import numpy as np\n",
    "import matplotlib.pyplot as plt\n",
    "from tensorflow.keras.utils import to_categorical\n",
    "from tensorflow.keras.preprocessing.image import ImageDataGenerator\n",
    "from tensorflow.keras.models import Sequential\n",
    "from tensorflow.keras.layers import Dense, Dropout, BatchNormalization, Conv2D, MaxPooling2D, Flatten\n",
    "from tensorflow.keras.losses import CategoricalCrossentropy\n",
    "from tensorflow.keras.optimizers import Adam\n",
    "from tensorflow.keras.metrics import Accuracy\n",
    "from tensorflow.keras.callbacks import ReduceLROnPlateau, EarlyStopping\n",
    "from sklearn.model_selection import train_test_split"
   ]
  },
  {
   "cell_type": "code",
   "execution_count": 2,
   "metadata": {},
   "outputs": [],
   "source": [
    "train_df = pd.read_csv(\"train.csv\")\n",
    "dig_mnist = pd.read_csv(\"Dig-MNIST.csv\")\n",
    "test_df = pd.read_csv(\"test.csv\")"
   ]
  },
  {
   "cell_type": "code",
   "execution_count": 3,
   "metadata": {},
   "outputs": [],
   "source": [
    "train_df = pd.concat([train_df, dig_mnist], axis=0, ignore_index=True)"
   ]
  },
  {
   "cell_type": "code",
   "execution_count": 4,
   "metadata": {},
   "outputs": [
    {
     "data": {
      "text/plain": [
       "(70240, 785)"
      ]
     },
     "execution_count": 4,
     "metadata": {},
     "output_type": "execute_result"
    }
   ],
   "source": [
    "train_df.shape"
   ]
  },
  {
   "cell_type": "code",
   "execution_count": 5,
   "metadata": {},
   "outputs": [],
   "source": [
    "y_train = train_df[\"label\"].values\n",
    "y_val = dig_mnist[\"label\"].values"
   ]
  },
  {
   "cell_type": "code",
   "execution_count": 6,
   "metadata": {},
   "outputs": [],
   "source": [
    "x_train = train_df[train_df.keys().drop([\"label\"])].values\n",
    "x_test = test_df[test_df.keys().drop([\"id\"])].values"
   ]
  },
  {
   "cell_type": "code",
   "execution_count": 7,
   "metadata": {},
   "outputs": [
    {
     "data": {
      "text/plain": [
       "(5000, 784)"
      ]
     },
     "execution_count": 7,
     "metadata": {},
     "output_type": "execute_result"
    }
   ],
   "source": [
    "x_test.shape"
   ]
  },
  {
   "cell_type": "code",
   "execution_count": 8,
   "metadata": {},
   "outputs": [],
   "source": [
    "x_train = x_train.reshape(-1,28,28,1)\n",
    "x_test = x_test.reshape(-1, 28,28, 1)"
   ]
  },
  {
   "cell_type": "code",
   "execution_count": 9,
   "metadata": {},
   "outputs": [],
   "source": [
    "x_train = x_train/255\n",
    "x_test = x_test/255"
   ]
  },
  {
   "cell_type": "code",
   "execution_count": 10,
   "metadata": {},
   "outputs": [
    {
     "data": {
      "text/plain": [
       "((70240, 28, 28, 1), (5000, 28, 28, 1), (70240,))"
      ]
     },
     "execution_count": 10,
     "metadata": {},
     "output_type": "execute_result"
    }
   ],
   "source": [
    "x_train.shape, x_test.shape, y_train.shape"
   ]
  },
  {
   "cell_type": "code",
   "execution_count": 11,
   "metadata": {},
   "outputs": [
    {
     "data": {
      "text/plain": [
       "({0, 1, 2, 3, 4, 5, 6, 7, 8, 9}, {0, 1, 2, 3, 4, 5, 6, 7, 8, 9})"
      ]
     },
     "execution_count": 11,
     "metadata": {},
     "output_type": "execute_result"
    }
   ],
   "source": [
    "set(y_train), set(y_val)"
   ]
  },
  {
   "cell_type": "code",
   "execution_count": 12,
   "metadata": {},
   "outputs": [],
   "source": [
    "y_train = to_categorical(y_train)"
   ]
  },
  {
   "cell_type": "code",
   "execution_count": 13,
   "metadata": {},
   "outputs": [
    {
     "data": {
      "text/plain": [
       "(70240, 10)"
      ]
     },
     "execution_count": 13,
     "metadata": {},
     "output_type": "execute_result"
    }
   ],
   "source": [
    "y_train.shape"
   ]
  },
  {
   "cell_type": "code",
   "execution_count": 14,
   "metadata": {},
   "outputs": [],
   "source": [
    "def plot_data(number):\n",
    "    rows = 2\n",
    "    columns = 5\n",
    "    fig, ax = plt.subplots(nrows=rows, ncols=columns+1, figsize=(20,20))\n",
    "    fig.tight_layout()\n",
    "    j = 0\n",
    "    for i in range(number, 10*columns+1, 10):\n",
    "        ax[0][j].imshow(x_train[i][:,:,0])\n",
    "        ax[1][j].imshow(x_val[i][:,:,0])\n",
    "        j+=1"
   ]
  },
  {
   "cell_type": "code",
   "execution_count": 15,
   "metadata": {},
   "outputs": [],
   "source": [
    "# plot_data(number=0)"
   ]
  },
  {
   "cell_type": "code",
   "execution_count": 16,
   "metadata": {},
   "outputs": [],
   "source": [
    "def create_model():\n",
    "    model = Sequential()\n",
    "    model.add(Conv2D(filters = 16, kernel_size=(3,3), padding=\"same\", activation=\"relu\", input_shape=(28,28,1)))\n",
    "    model.add(Conv2D(filters = 16, kernel_size=(3,3), padding=\"same\", activation=\"relu\"))\n",
    "    model.add(Conv2D(filters = 32, kernel_size=(3,3), padding=\"same\", activation=\"relu\"))\n",
    "    model.add(Conv2D(filters = 32, kernel_size=(3,3), padding=\"same\", activation=\"relu\"))\n",
    "    model.add(BatchNormalization())\n",
    "    model.add(MaxPooling2D(2,2))\n",
    "    model.add(Dropout(0.25))\n",
    "    \n",
    "    model.add(Conv2D(filters = 64, kernel_size=(3,3), padding=\"same\", activation=\"relu\"))\n",
    "    model.add(Conv2D(filters = 64, kernel_size=(3,3), padding=\"same\", activation=\"relu\"))\n",
    "    model.add(Conv2D(filters = 128, kernel_size=(3,3), padding=\"same\", activation=\"relu\"))\n",
    "    model.add(Conv2D(filters = 128, kernel_size=(3,3), padding=\"same\", activation=\"relu\"))\n",
    "    model.add(BatchNormalization())\n",
    "    model.add(MaxPooling2D(2,2))\n",
    "    model.add(Dropout(0.25))\n",
    "    \n",
    "    model.add(Conv2D(filters = 256, kernel_size=(3,3), padding=\"same\", activation=\"relu\"))\n",
    "    model.add(Conv2D(filters = 256, kernel_size=(3,3), padding=\"same\", activation=\"relu\"))\n",
    "    model.add(Conv2D(filters = 512, kernel_size=(3,3), padding=\"same\", activation=\"relu\"))\n",
    "    model.add(Conv2D(filters = 512, kernel_size=(3,3), padding=\"same\", activation=\"relu\"))\n",
    "    model.add(BatchNormalization())\n",
    "    model.add(MaxPooling2D(2,2))\n",
    "    model.add(Dropout(0.25))\n",
    "    \n",
    "    model.add(Flatten())\n",
    "    model.add(Dense(units=256, activation=\"relu\"))\n",
    "    model.add(Dropout(0.1))\n",
    "    model.add(Dense(units=64, activation=\"relu\"))\n",
    "    model.add(Dense(units=10, activation=\"softmax\"))\n",
    "    return model"
   ]
  },
  {
   "cell_type": "code",
   "execution_count": 17,
   "metadata": {},
   "outputs": [],
   "source": [
    "model = create_model()\n",
    "model.compile(optimizer=\"RMSprop\", loss=CategoricalCrossentropy(), metrics=[\"accuracy\", \"AUC\", \"Recall\"])"
   ]
  },
  {
   "cell_type": "code",
   "execution_count": 18,
   "metadata": {},
   "outputs": [
    {
     "name": "stdout",
     "output_type": "stream",
     "text": [
      "Model: \"sequential\"\n",
      "_________________________________________________________________\n",
      "Layer (type)                 Output Shape              Param #   \n",
      "=================================================================\n",
      "conv2d (Conv2D)              (None, 28, 28, 16)        160       \n",
      "_________________________________________________________________\n",
      "conv2d_1 (Conv2D)            (None, 28, 28, 16)        2320      \n",
      "_________________________________________________________________\n",
      "conv2d_2 (Conv2D)            (None, 28, 28, 32)        4640      \n",
      "_________________________________________________________________\n",
      "conv2d_3 (Conv2D)            (None, 28, 28, 32)        9248      \n",
      "_________________________________________________________________\n",
      "batch_normalization (BatchNo (None, 28, 28, 32)        128       \n",
      "_________________________________________________________________\n",
      "max_pooling2d (MaxPooling2D) (None, 14, 14, 32)        0         \n",
      "_________________________________________________________________\n",
      "dropout (Dropout)            (None, 14, 14, 32)        0         \n",
      "_________________________________________________________________\n",
      "conv2d_4 (Conv2D)            (None, 14, 14, 64)        18496     \n",
      "_________________________________________________________________\n",
      "conv2d_5 (Conv2D)            (None, 14, 14, 64)        36928     \n",
      "_________________________________________________________________\n",
      "conv2d_6 (Conv2D)            (None, 14, 14, 128)       73856     \n",
      "_________________________________________________________________\n",
      "conv2d_7 (Conv2D)            (None, 14, 14, 128)       147584    \n",
      "_________________________________________________________________\n",
      "batch_normalization_1 (Batch (None, 14, 14, 128)       512       \n",
      "_________________________________________________________________\n",
      "max_pooling2d_1 (MaxPooling2 (None, 7, 7, 128)         0         \n",
      "_________________________________________________________________\n",
      "dropout_1 (Dropout)          (None, 7, 7, 128)         0         \n",
      "_________________________________________________________________\n",
      "conv2d_8 (Conv2D)            (None, 7, 7, 256)         295168    \n",
      "_________________________________________________________________\n",
      "conv2d_9 (Conv2D)            (None, 7, 7, 256)         590080    \n",
      "_________________________________________________________________\n",
      "conv2d_10 (Conv2D)           (None, 7, 7, 512)         1180160   \n",
      "_________________________________________________________________\n",
      "conv2d_11 (Conv2D)           (None, 7, 7, 512)         2359808   \n",
      "_________________________________________________________________\n",
      "batch_normalization_2 (Batch (None, 7, 7, 512)         2048      \n",
      "_________________________________________________________________\n",
      "max_pooling2d_2 (MaxPooling2 (None, 3, 3, 512)         0         \n",
      "_________________________________________________________________\n",
      "dropout_2 (Dropout)          (None, 3, 3, 512)         0         \n",
      "_________________________________________________________________\n",
      "flatten (Flatten)            (None, 4608)              0         \n",
      "_________________________________________________________________\n",
      "dense (Dense)                (None, 256)               1179904   \n",
      "_________________________________________________________________\n",
      "dropout_3 (Dropout)          (None, 256)               0         \n",
      "_________________________________________________________________\n",
      "dense_1 (Dense)              (None, 64)                16448     \n",
      "_________________________________________________________________\n",
      "dense_2 (Dense)              (None, 10)                650       \n",
      "=================================================================\n",
      "Total params: 5,918,138\n",
      "Trainable params: 5,916,794\n",
      "Non-trainable params: 1,344\n",
      "_________________________________________________________________\n"
     ]
    }
   ],
   "source": [
    "model.summary()"
   ]
  },
  {
   "cell_type": "code",
   "execution_count": 19,
   "metadata": {},
   "outputs": [],
   "source": [
    "x_train, x_val_, y_train, y_val_ = train_test_split(x_train, y_train, test_size=0.2, random_state=69)"
   ]
  },
  {
   "cell_type": "code",
   "execution_count": 20,
   "metadata": {},
   "outputs": [],
   "source": [
    "datagen = ImageDataGenerator(\n",
    "    width_shift_range=0.1,\n",
    "    height_shift_range=0.1,\n",
    ")"
   ]
  },
  {
   "cell_type": "code",
   "execution_count": 21,
   "metadata": {},
   "outputs": [],
   "source": [
    "datagen.fit(x_train)"
   ]
  },
  {
   "cell_type": "code",
   "execution_count": 22,
   "metadata": {},
   "outputs": [],
   "source": [
    "lr = ReduceLROnPlateau(min_lr=0.00001, patience=4, verbose=1, monitor=\"val_loss\", mode=\"min\")\n",
    "es = EarlyStopping(monitor=\"val_loss\", patience=10, restore_best_weights=True)"
   ]
  },
  {
   "cell_type": "code",
   "execution_count": 23,
   "metadata": {},
   "outputs": [],
   "source": [
    "BATCH_SIZE=64"
   ]
  },
  {
   "cell_type": "code",
   "execution_count": 24,
   "metadata": {},
   "outputs": [
    {
     "name": "stdout",
     "output_type": "stream",
     "text": [
      "WARNING:tensorflow:sample_weight modes were coerced from\n",
      "  ...\n",
      "    to  \n",
      "  ['...']\n",
      "Train for 878 steps, validate on 14048 samples\n",
      "Epoch 1/40\n",
      "878/878 [==============================] - 35s 40ms/step - loss: 0.4262 - accuracy: 0.8670 - AUC: 0.9866 - Recall: 0.8412 - val_loss: 0.1577 - val_accuracy: 0.9566 - val_AUC: 0.9956 - val_Recall: 0.95399 - Recall: 0. - ETA: 45s - loss: 1.3526 - accuracy: 0.5648 - AUC: 0.9017 - Recall:  - ETA: 44s - loss: 1.3194 - accuracy: 0.5750 - AUC: 0.9061 - Recall:  - ETA: 42s - loss: 1.2910 - accuracy: 0.5839 - AUC: 0.9099 - Re - ETA: 40s - loss: 1.2373 - acc - ETA: 34s - loss: 1.0627 - accuracy: 0.6564 - AUC: 0.9373 - Recall: 0.57 - E - - ETA: 14s - loss: 0.6050 - accuracy: 0.8081  - ETA: 13s - loss: 0.5828 - accuracy: 0.8155 -  - ETA: 12s - loss: 0.5640 - accuracy: 0.8217 - AUC: 0.9791 -  - ETA: 11s - loss: 0.5551 - accuracy:  - ETA: 9s - loss: 0 - ETA: 5s - loss: 0.4793 - accuracy: 0.8499 - AUC: 0.983 - ETA: 3s - loss: 0.4644 - accuracy: 0.8549 - AUC: 0.98 - ETA: 2s - loss: 0.4496 - accuracy: 0.8595 - AUC: 0.9854 - Recall: 0.83 - ETA: 2s - loss: 0.4480 - accuracy: 0.8601 - AUC: 0.9855 - Recall:  - ETA: 1s - loss: 0.4435 - accuracy: 0.8615 - AUC: 0.9857 - Recall: 0. - ETA: 1s - loss: 0.4404 - accuracy: 0.8625 - AUC: 0 - ETA: 0s - loss: 0.4265 - accuracy: 0.8669 - AUC: 0.9865 - Recall: 0.841\n",
      "Epoch 2/40\n",
      "878/878 [==============================] - 30s 35ms/step - loss: 0.1361 - accuracy: 0.9629 - AUC: 0.9966 - Recall: 0.9583 - val_loss: 0.1190 - val_accuracy: 0.9683 - val_AUC: 0.9967 - val_Recall: 0.9660 - ETA: 22s - loss: 0.1473 - accuracy: 0.9589 - AUC: 0.996 - ETA: 22s - loss: 0.1449 - accuracy: 0.9595 - AUC: 0.996 - ETA: 21s - loss: 0.1501 - accuracy: 0.9582 - AU - ETA: 20s - loss: 0.1456 - accuracy: 0.9598 - AUC: 0.9964  - ETA: 20s - loss: 0.1460 - accuracy: - ETA - ETA: 16s - loss: 0.1441 - accuracy: 0.9607 - AUC: 0.9963 - Recall: 0. - ETA: 16s  - E - ETA: 0s - loss: 0.1357 - accuracy: 0.9629 - AUC: 0.9966 - Recall: 0.9\n",
      "Epoch 3/40\n",
      "878/878 [==============================] - 33s 38ms/step - loss: 0.1182 - accuracy: 0.9690 - AUC: 0.9971 - Recall: 0.9651 - val_loss: 0.0711 - val_accuracy: 0.9819 - val_AUC: 0.9982 - val_Recall: 0.9802\n",
      "Epoch 4/40\n",
      "878/878 [==============================] - 35s 40ms/step - loss: 0.1098 - accuracy: 0.9724 - AUC: 0.9973 - Recall: 0.9691 - val_loss: 0.1023 - val_accuracy: 0.9813 - val_AUC: 0.9967 - val_Recall: 0.9808\n",
      "Epoch 5/40\n",
      "878/878 [==============================] - 37s 42ms/step - loss: 0.1063 - accuracy: 0.9746 - AUC: 0.9973 - Recall: 0.9712 - val_loss: 0.1315 - val_accuracy: 0.9737 - val_AUC: 0.9968 - val_Recall: 0.9702\n",
      "Epoch 6/40\n",
      "878/878 [==============================] - 38s 43ms/step - loss: 0.1021 - accuracy: 0.9761 - AUC: 0.9976 - Recall: 0.9730 - val_loss: 0.1085 - val_accuracy: 0.9732 - val_AUC: 0.9972 - val_Recall: 0.9686\n",
      "Epoch 7/40\n",
      "877/878 [============================>.] - ETA: 0s - loss: 0.0927 - accuracy: 0.9784 - AUC: 0.9977 - Recall: 0.9760\n",
      "Epoch 00007: ReduceLROnPlateau reducing learning rate to 0.00010000000474974513.\n",
      "878/878 [==============================] - 37s 42ms/step - loss: 0.0927 - accuracy: 0.9783 - AUC: 0.9977 - Recall: 0.9760 - val_loss: 0.0853 - val_accuracy: 0.9791 - val_AUC: 0.9979 - val_Recall: 0.9764\n",
      "Epoch 8/40\n",
      "878/878 [==============================] - 36s 41ms/step - loss: 0.0569 - accuracy: 0.9857 - AUC: 0.9988 - Recall: 0.9836 - val_loss: 0.0360 - val_accuracy: 0.9906 - val_AUC: 0.9992 - val_Recall: 0.9894\n",
      "Epoch 9/40\n",
      "878/878 [==============================] - 36s 41ms/step - loss: 0.0471 - accuracy: 0.9881 - AUC: 0.9991 - Recall: 0.9863 - val_loss: 0.0339 - val_accuracy: 0.9914 - val_AUC: 0.9992 - val_Recall: 0.9905\n",
      "Epoch 10/40\n",
      "878/878 [==============================] - 37s 42ms/step - loss: 0.0437 - accuracy: 0.9893 - AUC: 0.9990 - Recall: 0.9879 - val_loss: 0.0365 - val_accuracy: 0.9920 - val_AUC: 0.9992 - val_Recall: 0.9909\n",
      "Epoch 11/40\n",
      "878/878 [==============================] - 37s 42ms/step - loss: 0.0440 - accuracy: 0.9887 - AUC: 0.9991 - Recall: 0.9873 - val_loss: 0.0345 - val_accuracy: 0.9921 - val_AUC: 0.9994 - val_Recall: 0.9907\n",
      "Epoch 12/40\n",
      "878/878 [==============================] - 37s 43ms/step - loss: 0.0438 - accuracy: 0.9891 - AUC: 0.9990 - Recall: 0.9876 - val_loss: 0.0399 - val_accuracy: 0.9916 - val_AUC: 0.9991 - val_Recall: 0.9908\n",
      "Epoch 13/40\n",
      "878/878 [==============================] - 37s 42ms/step - loss: 0.0398 - accuracy: 0.9896 - AUC: 0.9991 - Recall: 0.9884 - val_loss: 0.0311 - val_accuracy: 0.9924 - val_AUC: 0.9994 - val_Recall: 0.9914\n",
      "Epoch 14/40\n",
      "878/878 [==============================] - 37s 42ms/step - loss: 0.0404 - accuracy: 0.9894 - AUC: 0.9991 - Recall: 0.9882 - val_loss: 0.0361 - val_accuracy: 0.9914 - val_AUC: 0.9993 - val_Recall: 0.9904\n",
      "Epoch 15/40\n",
      "878/878 [==============================] - 37s 42ms/step - loss: 0.0413 - accuracy: 0.9892 - AUC: 0.9991 - Recall: 0.9882 - val_loss: 0.0381 - val_accuracy: 0.9917 - val_AUC: 0.9991 - val_Recall: 0.9914\n",
      "Epoch 16/40\n",
      "878/878 [==============================] - 37s 42ms/step - loss: 0.0425 - accuracy: 0.9896 - AUC: 0.9990 - Recall: 0.9885 - val_loss: 0.0345 - val_accuracy: 0.9924 - val_AUC: 0.9991 - val_Recall: 0.9919\n",
      "Epoch 17/40\n",
      "878/878 [==============================] - 36s 41ms/step - loss: 0.0412 - accuracy: 0.9904 - AUC: 0.9990 - Recall: 0.9894 - val_loss: 0.0310 - val_accuracy: 0.9926 - val_AUC: 0.9993 - val_Recall: 0.9918\n",
      "Epoch 18/40\n",
      "878/878 [==============================] - 36s 41ms/step - loss: 0.0401 - accuracy: 0.9902 - AUC: 0.9991 - Recall: 0.9892 - val_loss: 0.0341 - val_accuracy: 0.9918 - val_AUC: 0.9993 - val_Recall: 0.9907\n",
      "Epoch 19/40\n",
      "878/878 [==============================] - 36s 41ms/step - loss: 0.0395 - accuracy: 0.9906 - AUC: 0.9990 - Recall: 0.9895 - val_loss: 0.0296 - val_accuracy: 0.9930 - val_AUC: 0.9993 - val_Recall: 0.9923\n",
      "Epoch 20/40\n",
      "878/878 [==============================] - 36s 42ms/step - loss: 0.0386 - accuracy: 0.9906 - AUC: 0.9991 - Recall: 0.9896 - val_loss: 0.0346 - val_accuracy: 0.9923 - val_AUC: 0.9992 - val_Recall: 0.9916\n",
      "Epoch 21/40\n",
      "878/878 [==============================] - 38s 43ms/step - loss: 0.0391 - accuracy: 0.9902 - AUC: 0.9991 - Recall: 0.9895 - val_loss: 0.0318 - val_accuracy: 0.9934 - val_AUC: 0.9993 - val_Recall: 0.9920\n",
      "Epoch 22/40\n",
      "878/878 [==============================] - 38s 43ms/step - loss: 0.0397 - accuracy: 0.9901 - AUC: 0.9991 - Recall: 0.9892 - val_loss: 0.0362 - val_accuracy: 0.9924 - val_AUC: 0.9991 - val_Recall: 0.9914\n",
      "Epoch 23/40\n",
      "877/878 [============================>.] - ETA: 0s - loss: 0.0375 - accuracy: 0.9908 - AUC: 0.9991 - Recall: 0.9899\n",
      "Epoch 00023: ReduceLROnPlateau reducing learning rate to 1.0000000474974514e-05.\n",
      "878/878 [==============================] - 38s 43ms/step - loss: 0.0377 - accuracy: 0.9907 - AUC: 0.9991 - Recall: 0.9899 - val_loss: 0.0385 - val_accuracy: 0.9924 - val_AUC: 0.9987 - val_Recall: 0.9919\n",
      "Epoch 24/40\n",
      "878/878 [==============================] - 36s 41ms/step - loss: 0.0353 - accuracy: 0.9912 - AUC: 0.9991 - Recall: 0.9905 - val_loss: 0.0297 - val_accuracy: 0.9932 - val_AUC: 0.9993 - val_Recall: 0.9924\n",
      "Epoch 25/40\n",
      "878/878 [==============================] - 37s 42ms/step - loss: 0.0340 - accuracy: 0.9913 - AUC: 0.9993 - Recall: 0.9905 - val_loss: 0.0299 - val_accuracy: 0.9932 - val_AUC: 0.9992 - val_Recall: 0.9923\n",
      "Epoch 26/40\n",
      "878/878 [==============================] - 36s 41ms/step - loss: 0.0318 - accuracy: 0.9919 - AUC: 0.9991 - Recall: 0.9908 - val_loss: 0.0303 - val_accuracy: 0.9934 - val_AUC: 0.9992 - val_Recall: 0.9928\n",
      "Epoch 27/40\n",
      "878/878 [==============================] - 37s 42ms/step - loss: 0.0349 - accuracy: 0.9918 - AUC: 0.9991 - Recall: 0.9911 - val_loss: 0.0287 - val_accuracy: 0.9933 - val_AUC: 0.9993 - val_Recall: 0.9928\n",
      "Epoch 28/40\n",
      "878/878 [==============================] - 36s 41ms/step - loss: 0.0327 - accuracy: 0.9912 - AUC: 0.9993 - Recall: 0.9903 - val_loss: 0.0288 - val_accuracy: 0.9932 - val_AUC: 0.9993 - val_Recall: 0.9927\n",
      "Epoch 29/40\n",
      "878/878 [==============================] - 37s 42ms/step - loss: 0.0305 - accuracy: 0.9922 - AUC: 0.9993 - Recall: 0.9914 - val_loss: 0.0289 - val_accuracy: 0.9933 - val_AUC: 0.9994 - val_Recall: 0.9927\n",
      "Epoch 30/40\n"
     ]
    },
    {
     "name": "stdout",
     "output_type": "stream",
     "text": [
      "878/878 [==============================] - 38s 43ms/step - loss: 0.0341 - accuracy: 0.9918 - AUC: 0.9991 - Recall: 0.9910 - val_loss: 0.0287 - val_accuracy: 0.9933 - val_AUC: 0.9992 - val_Recall: 0.9928\n",
      "Epoch 31/40\n",
      "877/878 [============================>.] - ETA: 0s - loss: 0.0319 - accuracy: 0.9917 - AUC: 0.9993 - Recall: 0.9910\n",
      "Epoch 00031: ReduceLROnPlateau reducing learning rate to 1e-05.\n",
      "878/878 [==============================] - 38s 43ms/step - loss: 0.0320 - accuracy: 0.9917 - AUC: 0.9993 - Recall: 0.9910 - val_loss: 0.0308 - val_accuracy: 0.9934 - val_AUC: 0.9992 - val_Recall: 0.9929\n",
      "Epoch 32/40\n",
      "878/878 [==============================] - 37s 42ms/step - loss: 0.0340 - accuracy: 0.9916 - AUC: 0.9992 - Recall: 0.9906 - val_loss: 0.0284 - val_accuracy: 0.9932 - val_AUC: 0.9993 - val_Recall: 0.9928\n",
      "Epoch 33/40\n",
      "878/878 [==============================] - 36s 41ms/step - loss: 0.0331 - accuracy: 0.9917 - AUC: 0.9992 - Recall: 0.9908 - val_loss: 0.0281 - val_accuracy: 0.9935 - val_AUC: 0.9993 - val_Recall: 0.9927\n",
      "Epoch 34/40\n",
      "878/878 [==============================] - 49s 55ms/step - loss: 0.0320 - accuracy: 0.9921 - AUC: 0.9992 - Recall: 0.9912 - val_loss: 0.0288 - val_accuracy: 0.9937 - val_AUC: 0.9993 - val_Recall: 0.9929 0.0325 - accuracy: 0.9921 - AUC: 0.9992 - Recall: 0.991 - ETA: 1s - loss: 0.0324 - accuracy: 0.9921 - AUC: 0.9992 - Recall: 0.99 - ETA: 1s - loss: 0.0324 - accuracy: 0.9\n",
      "Epoch 35/40\n",
      "878/878 [==============================] - 54s 61ms/step - loss: 0.0319 - accuracy: 0.9918 - AUC: 0.9994 - Recall: 0.9910 - val_loss: 0.0299 - val_accuracy: 0.9933 - val_AUC: 0.9992 - val_Recall: 0.9926\n",
      "Epoch 36/40\n",
      "878/878 [==============================] - 54s 61ms/step - loss: 0.0326 - accuracy: 0.9917 - AUC: 0.9993 - Recall: 0.9911 - val_loss: 0.0302 - val_accuracy: 0.9933 - val_AUC: 0.9992 - val_Recall: 0.9928\n",
      "Epoch 37/40\n",
      "878/878 [==============================] - 43s 49ms/step - loss: 0.0325 - accuracy: 0.9919 - AUC: 0.9993 - Recall: 0.9910 - val_loss: 0.0313 - val_accuracy: 0.9936 - val_AUC: 0.9993 - val_Recall: 0.9931\n",
      "Epoch 38/40\n",
      "878/878 [==============================] - 37s 42ms/step - loss: 0.0321 - accuracy: 0.9923 - AUC: 0.9993 - Recall: 0.9916 - val_loss: 0.0299 - val_accuracy: 0.9936 - val_AUC: 0.9992 - val_Recall: 0.9931\n",
      "Epoch 39/40\n",
      "878/878 [==============================] - 36s 41ms/step - loss: 0.0307 - accuracy: 0.9917 - AUC: 0.9993 - Recall: 0.9910 - val_loss: 0.0305 - val_accuracy: 0.9937 - val_AUC: 0.9992 - val_Recall: 0.9930\n",
      "Epoch 40/40\n",
      "878/878 [==============================] - 37s 43ms/step - loss: 0.0330 - accuracy: 0.9918 - AUC: 0.9992 - Recall: 0.9911 - val_loss: 0.0304 - val_accuracy: 0.9937 - val_AUC: 0.9993 - val_Recall: 0.9930\n"
     ]
    }
   ],
   "source": [
    "history = model.fit(datagen.flow(x_train, y_train, batch_size=BATCH_SIZE), epochs=40, \n",
    "                    steps_per_epoch = x_train.shape[0]//BATCH_SIZE, validation_data = (x_val_, y_val_),\n",
    "                    validation_steps=x_val_.shape[0]//BATCH_SIZE,\n",
    "                    callbacks=[lr, es], verbose = 1)"
   ]
  },
  {
   "cell_type": "code",
   "execution_count": null,
   "metadata": {},
   "outputs": [],
   "source": [
    "preds = model.predict(x_test)"
   ]
  },
  {
   "cell_type": "code",
   "execution_count": null,
   "metadata": {},
   "outputs": [],
   "source": [
    "preds = np.argmax(preds, axis=1)"
   ]
  },
  {
   "cell_type": "code",
   "execution_count": null,
   "metadata": {},
   "outputs": [],
   "source": [
    "sam = pd.read_csv(\"sample_submission.csv\")"
   ]
  },
  {
   "cell_type": "code",
   "execution_count": null,
   "metadata": {},
   "outputs": [],
   "source": [
    "sam[\"label\"] = preds"
   ]
  },
  {
   "cell_type": "code",
   "execution_count": null,
   "metadata": {},
   "outputs": [],
   "source": [
    "sam.to_csv(\"submission.csv\", index=False)"
   ]
  },
  {
   "cell_type": "code",
   "execution_count": null,
   "metadata": {},
   "outputs": [],
   "source": []
  }
 ],
 "metadata": {
  "kernelspec": {
   "display_name": "Python 3",
   "language": "python",
   "name": "python3"
  },
  "language_info": {
   "codemirror_mode": {
    "name": "ipython",
    "version": 3
   },
   "file_extension": ".py",
   "mimetype": "text/x-python",
   "name": "python",
   "nbconvert_exporter": "python",
   "pygments_lexer": "ipython3",
   "version": "3.7.6"
  }
 },
 "nbformat": 4,
 "nbformat_minor": 4
}
